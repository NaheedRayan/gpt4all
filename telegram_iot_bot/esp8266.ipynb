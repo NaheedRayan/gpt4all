{
 "cells": [
  {
   "cell_type": "code",
   "execution_count": 14,
   "metadata": {},
   "outputs": [
    {
     "name": "stdout",
     "output_type": "stream",
     "text": [
      "Request successful\n",
      "fan1 turned OFF\n"
     ]
    }
   ],
   "source": [
    "# http://192.168.43.120/?action=on\n",
    "\n",
    "\n",
    "import requests\n",
    "\n",
    "\n",
    "ip_addr = '192.168.43.120'\n",
    "component_name = 'fan1'\n",
    "component_status = '0'\n",
    "\n",
    "\n",
    "\n",
    "url = f'http://{ip_addr}/?component_name={component_name}&component_status={component_status}'\n",
    "\n",
    "# print(url)\n",
    "\n",
    "try:\n",
    "    response = requests.get(url)\n",
    "    if response.status_code == 200:\n",
    "        print(\"Request successful\")\n",
    "        print(response.text)\n",
    "    else:\n",
    "        print(\"Request failed with status code:\", response.status_code)\n",
    "except requests.RequestException as e:\n",
    "    print(\"Error:\", e)\n"
   ]
  }
 ],
 "metadata": {
  "kernelspec": {
   "display_name": "env",
   "language": "python",
   "name": "python3"
  },
  "language_info": {
   "codemirror_mode": {
    "name": "ipython",
    "version": 3
   },
   "file_extension": ".py",
   "mimetype": "text/x-python",
   "name": "python",
   "nbconvert_exporter": "python",
   "pygments_lexer": "ipython3",
   "version": "3.10.12"
  }
 },
 "nbformat": 4,
 "nbformat_minor": 2
}
