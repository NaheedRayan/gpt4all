{
 "cells": [
  {
   "cell_type": "code",
   "execution_count": 1,
   "metadata": {},
   "outputs": [
    {
     "name": "stdout",
     "output_type": "stream",
     "text": [
      "Note: you may need to restart the kernel to use updated packages.\n",
      "Note: you may need to restart the kernel to use updated packages.\n",
      "Requirement already satisfied: chromadb in /home/naheed/Desktop/gpt4all/env/lib/python3.10/site-packages (0.4.22)\n",
      "Requirement already satisfied: numpy>=1.22.5 in /home/naheed/Desktop/gpt4all/env/lib/python3.10/site-packages (from chromadb) (1.26.3)\n",
      "Requirement already satisfied: typing-extensions>=4.5.0 in /home/naheed/Desktop/gpt4all/env/lib/python3.10/site-packages (from chromadb) (4.8.0)\n",
      "Requirement already satisfied: opentelemetry-instrumentation-fastapi>=0.41b0 in /home/naheed/Desktop/gpt4all/env/lib/python3.10/site-packages (from chromadb) (0.43b0)\n",
      "Requirement already satisfied: requests>=2.28 in /home/naheed/Desktop/gpt4all/env/lib/python3.10/site-packages (from chromadb) (2.31.0)\n",
      "Requirement already satisfied: tenacity>=8.2.3 in /home/naheed/Desktop/gpt4all/env/lib/python3.10/site-packages (from chromadb) (8.2.3)\n",
      "Requirement already satisfied: onnxruntime>=1.14.1 in /home/naheed/Desktop/gpt4all/env/lib/python3.10/site-packages (from chromadb) (1.16.3)\n",
      "Requirement already satisfied: opentelemetry-sdk>=1.2.0 in /home/naheed/Desktop/gpt4all/env/lib/python3.10/site-packages (from chromadb) (1.22.0)\n",
      "Requirement already satisfied: bcrypt>=4.0.1 in /home/naheed/Desktop/gpt4all/env/lib/python3.10/site-packages (from chromadb) (4.1.2)\n",
      "Requirement already satisfied: build>=1.0.3 in /home/naheed/Desktop/gpt4all/env/lib/python3.10/site-packages (from chromadb) (1.0.3)\n",
      "Requirement already satisfied: opentelemetry-exporter-otlp-proto-grpc>=1.2.0 in /home/naheed/Desktop/gpt4all/env/lib/python3.10/site-packages (from chromadb) (1.22.0)\n",
      "Requirement already satisfied: opentelemetry-api>=1.2.0 in /home/naheed/Desktop/gpt4all/env/lib/python3.10/site-packages (from chromadb) (1.22.0)\n",
      "Requirement already satisfied: uvicorn[standard]>=0.18.3 in /home/naheed/Desktop/gpt4all/env/lib/python3.10/site-packages (from chromadb) (0.27.0.post1)\n",
      "Requirement already satisfied: grpcio>=1.58.0 in /home/naheed/Desktop/gpt4all/env/lib/python3.10/site-packages (from chromadb) (1.60.0)\n",
      "Requirement already satisfied: pydantic>=1.9 in /home/naheed/Desktop/gpt4all/env/lib/python3.10/site-packages (from chromadb) (2.5.2)\n",
      "Requirement already satisfied: typer>=0.9.0 in /home/naheed/Desktop/gpt4all/env/lib/python3.10/site-packages (from chromadb) (0.9.0)\n",
      "Requirement already satisfied: posthog>=2.4.0 in /home/naheed/Desktop/gpt4all/env/lib/python3.10/site-packages (from chromadb) (3.3.3)\n",
      "Requirement already satisfied: tqdm>=4.65.0 in /home/naheed/Desktop/gpt4all/env/lib/python3.10/site-packages (from chromadb) (4.66.1)\n",
      "Requirement already satisfied: pypika>=0.48.9 in /home/naheed/Desktop/gpt4all/env/lib/python3.10/site-packages (from chromadb) (0.48.9)\n",
      "Requirement already satisfied: importlib-resources in /home/naheed/Desktop/gpt4all/env/lib/python3.10/site-packages (from chromadb) (6.1.1)\n",
      "Requirement already satisfied: tokenizers>=0.13.2 in /home/naheed/Desktop/gpt4all/env/lib/python3.10/site-packages (from chromadb) (0.15.0)\n",
      "Requirement already satisfied: mmh3>=4.0.1 in /home/naheed/Desktop/gpt4all/env/lib/python3.10/site-packages (from chromadb) (4.1.0)\n",
      "Requirement already satisfied: fastapi>=0.95.2 in /home/naheed/Desktop/gpt4all/env/lib/python3.10/site-packages (from chromadb) (0.109.0)\n",
      "Requirement already satisfied: kubernetes>=28.1.0 in /home/naheed/Desktop/gpt4all/env/lib/python3.10/site-packages (from chromadb) (29.0.0)\n",
      "Requirement already satisfied: chroma-hnswlib==0.7.3 in /home/naheed/Desktop/gpt4all/env/lib/python3.10/site-packages (from chromadb) (0.7.3)\n",
      "Requirement already satisfied: PyYAML>=6.0.0 in /home/naheed/Desktop/gpt4all/env/lib/python3.10/site-packages (from chromadb) (6.0.1)\n",
      "Requirement already satisfied: overrides>=7.3.1 in /home/naheed/Desktop/gpt4all/env/lib/python3.10/site-packages (from chromadb) (7.7.0)\n",
      "Requirement already satisfied: pulsar-client>=3.1.0 in /home/naheed/Desktop/gpt4all/env/lib/python3.10/site-packages (from chromadb) (3.4.0)\n",
      "Requirement already satisfied: pyproject_hooks in /home/naheed/Desktop/gpt4all/env/lib/python3.10/site-packages (from build>=1.0.3->chromadb) (1.0.0)\n",
      "Requirement already satisfied: packaging>=19.0 in /home/naheed/Desktop/gpt4all/env/lib/python3.10/site-packages (from build>=1.0.3->chromadb) (23.2)\n",
      "Requirement already satisfied: tomli>=1.1.0 in /home/naheed/Desktop/gpt4all/env/lib/python3.10/site-packages (from build>=1.0.3->chromadb) (2.0.1)\n",
      "Requirement already satisfied: starlette<0.36.0,>=0.35.0 in /home/naheed/Desktop/gpt4all/env/lib/python3.10/site-packages (from fastapi>=0.95.2->chromadb) (0.35.1)\n",
      "Requirement already satisfied: six>=1.9.0 in /home/naheed/Desktop/gpt4all/env/lib/python3.10/site-packages (from kubernetes>=28.1.0->chromadb) (1.16.0)\n",
      "Requirement already satisfied: oauthlib>=3.2.2 in /home/naheed/Desktop/gpt4all/env/lib/python3.10/site-packages (from kubernetes>=28.1.0->chromadb) (3.2.2)\n",
      "Requirement already satisfied: certifi>=14.05.14 in /home/naheed/Desktop/gpt4all/env/lib/python3.10/site-packages (from kubernetes>=28.1.0->chromadb) (2023.11.17)\n",
      "Requirement already satisfied: requests-oauthlib in /home/naheed/Desktop/gpt4all/env/lib/python3.10/site-packages (from kubernetes>=28.1.0->chromadb) (1.3.1)\n",
      "Requirement already satisfied: urllib3>=1.24.2 in /home/naheed/Desktop/gpt4all/env/lib/python3.10/site-packages (from kubernetes>=28.1.0->chromadb) (2.1.0)\n",
      "Requirement already satisfied: websocket-client!=0.40.0,!=0.41.*,!=0.42.*,>=0.32.0 in /home/naheed/Desktop/gpt4all/env/lib/python3.10/site-packages (from kubernetes>=28.1.0->chromadb) (1.7.0)\n",
      "Requirement already satisfied: python-dateutil>=2.5.3 in /home/naheed/Desktop/gpt4all/env/lib/python3.10/site-packages (from kubernetes>=28.1.0->chromadb) (2.8.2)\n",
      "Requirement already satisfied: google-auth>=1.0.1 in /home/naheed/Desktop/gpt4all/env/lib/python3.10/site-packages (from kubernetes>=28.1.0->chromadb) (2.27.0)\n",
      "Requirement already satisfied: coloredlogs in /home/naheed/Desktop/gpt4all/env/lib/python3.10/site-packages (from onnxruntime>=1.14.1->chromadb) (15.0.1)\n",
      "Requirement already satisfied: protobuf in /home/naheed/Desktop/gpt4all/env/lib/python3.10/site-packages (from onnxruntime>=1.14.1->chromadb) (4.25.2)\n",
      "Requirement already satisfied: sympy in /home/naheed/Desktop/gpt4all/env/lib/python3.10/site-packages (from onnxruntime>=1.14.1->chromadb) (1.12)\n",
      "Requirement already satisfied: flatbuffers in /home/naheed/Desktop/gpt4all/env/lib/python3.10/site-packages (from onnxruntime>=1.14.1->chromadb) (23.5.26)\n",
      "Requirement already satisfied: deprecated>=1.2.6 in /home/naheed/Desktop/gpt4all/env/lib/python3.10/site-packages (from opentelemetry-api>=1.2.0->chromadb) (1.2.14)\n",
      "Requirement already satisfied: importlib-metadata<7.0,>=6.0 in /home/naheed/Desktop/gpt4all/env/lib/python3.10/site-packages (from opentelemetry-api>=1.2.0->chromadb) (6.11.0)\n",
      "Requirement already satisfied: googleapis-common-protos~=1.52 in /home/naheed/Desktop/gpt4all/env/lib/python3.10/site-packages (from opentelemetry-exporter-otlp-proto-grpc>=1.2.0->chromadb) (1.62.0)\n",
      "Requirement already satisfied: opentelemetry-proto==1.22.0 in /home/naheed/Desktop/gpt4all/env/lib/python3.10/site-packages (from opentelemetry-exporter-otlp-proto-grpc>=1.2.0->chromadb) (1.22.0)\n",
      "Requirement already satisfied: backoff<3.0.0,>=1.10.0 in /home/naheed/Desktop/gpt4all/env/lib/python3.10/site-packages (from opentelemetry-exporter-otlp-proto-grpc>=1.2.0->chromadb) (2.2.1)\n",
      "Requirement already satisfied: opentelemetry-exporter-otlp-proto-common==1.22.0 in /home/naheed/Desktop/gpt4all/env/lib/python3.10/site-packages (from opentelemetry-exporter-otlp-proto-grpc>=1.2.0->chromadb) (1.22.0)\n",
      "Requirement already satisfied: opentelemetry-instrumentation==0.43b0 in /home/naheed/Desktop/gpt4all/env/lib/python3.10/site-packages (from opentelemetry-instrumentation-fastapi>=0.41b0->chromadb) (0.43b0)\n",
      "Requirement already satisfied: opentelemetry-util-http==0.43b0 in /home/naheed/Desktop/gpt4all/env/lib/python3.10/site-packages (from opentelemetry-instrumentation-fastapi>=0.41b0->chromadb) (0.43b0)\n",
      "Requirement already satisfied: opentelemetry-semantic-conventions==0.43b0 in /home/naheed/Desktop/gpt4all/env/lib/python3.10/site-packages (from opentelemetry-instrumentation-fastapi>=0.41b0->chromadb) (0.43b0)\n",
      "Requirement already satisfied: opentelemetry-instrumentation-asgi==0.43b0 in /home/naheed/Desktop/gpt4all/env/lib/python3.10/site-packages (from opentelemetry-instrumentation-fastapi>=0.41b0->chromadb) (0.43b0)\n",
      "Requirement already satisfied: setuptools>=16.0 in /home/naheed/Desktop/gpt4all/env/lib/python3.10/site-packages (from opentelemetry-instrumentation==0.43b0->opentelemetry-instrumentation-fastapi>=0.41b0->chromadb) (59.6.0)\n",
      "Requirement already satisfied: wrapt<2.0.0,>=1.0.0 in /home/naheed/Desktop/gpt4all/env/lib/python3.10/site-packages (from opentelemetry-instrumentation==0.43b0->opentelemetry-instrumentation-fastapi>=0.41b0->chromadb) (1.16.0)\n",
      "Requirement already satisfied: asgiref~=3.0 in /home/naheed/Desktop/gpt4all/env/lib/python3.10/site-packages (from opentelemetry-instrumentation-asgi==0.43b0->opentelemetry-instrumentation-fastapi>=0.41b0->chromadb) (3.7.2)\n",
      "Requirement already satisfied: monotonic>=1.5 in /home/naheed/Desktop/gpt4all/env/lib/python3.10/site-packages (from posthog>=2.4.0->chromadb) (1.6)\n",
      "Requirement already satisfied: annotated-types>=0.4.0 in /home/naheed/Desktop/gpt4all/env/lib/python3.10/site-packages (from pydantic>=1.9->chromadb) (0.6.0)\n",
      "Requirement already satisfied: pydantic-core==2.14.5 in /home/naheed/Desktop/gpt4all/env/lib/python3.10/site-packages (from pydantic>=1.9->chromadb) (2.14.5)\n",
      "Requirement already satisfied: charset-normalizer<4,>=2 in /home/naheed/Desktop/gpt4all/env/lib/python3.10/site-packages (from requests>=2.28->chromadb) (3.3.2)\n",
      "Requirement already satisfied: idna<4,>=2.5 in /home/naheed/Desktop/gpt4all/env/lib/python3.10/site-packages (from requests>=2.28->chromadb) (3.6)\n",
      "Requirement already satisfied: huggingface_hub<1.0,>=0.16.4 in /home/naheed/Desktop/gpt4all/env/lib/python3.10/site-packages (from tokenizers>=0.13.2->chromadb) (0.19.4)\n",
      "Requirement already satisfied: click<9.0.0,>=7.1.1 in /home/naheed/Desktop/gpt4all/env/lib/python3.10/site-packages (from typer>=0.9.0->chromadb) (8.1.7)\n",
      "Requirement already satisfied: h11>=0.8 in /home/naheed/Desktop/gpt4all/env/lib/python3.10/site-packages (from uvicorn[standard]>=0.18.3->chromadb) (0.14.0)\n",
      "Requirement already satisfied: uvloop!=0.15.0,!=0.15.1,>=0.14.0 in /home/naheed/Desktop/gpt4all/env/lib/python3.10/site-packages (from uvicorn[standard]>=0.18.3->chromadb) (0.19.0)\n",
      "Requirement already satisfied: python-dotenv>=0.13 in /home/naheed/Desktop/gpt4all/env/lib/python3.10/site-packages (from uvicorn[standard]>=0.18.3->chromadb) (1.0.1)\n",
      "Requirement already satisfied: websockets>=10.4 in /home/naheed/Desktop/gpt4all/env/lib/python3.10/site-packages (from uvicorn[standard]>=0.18.3->chromadb) (12.0)\n",
      "Requirement already satisfied: watchfiles>=0.13 in /home/naheed/Desktop/gpt4all/env/lib/python3.10/site-packages (from uvicorn[standard]>=0.18.3->chromadb) (0.21.0)\n",
      "Requirement already satisfied: httptools>=0.5.0 in /home/naheed/Desktop/gpt4all/env/lib/python3.10/site-packages (from uvicorn[standard]>=0.18.3->chromadb) (0.6.1)\n",
      "Requirement already satisfied: rsa<5,>=3.1.4 in /home/naheed/Desktop/gpt4all/env/lib/python3.10/site-packages (from google-auth>=1.0.1->kubernetes>=28.1.0->chromadb) (4.9)\n",
      "Requirement already satisfied: cachetools<6.0,>=2.0.0 in /home/naheed/Desktop/gpt4all/env/lib/python3.10/site-packages (from google-auth>=1.0.1->kubernetes>=28.1.0->chromadb) (5.3.2)\n",
      "Requirement already satisfied: pyasn1-modules>=0.2.1 in /home/naheed/Desktop/gpt4all/env/lib/python3.10/site-packages (from google-auth>=1.0.1->kubernetes>=28.1.0->chromadb) (0.3.0)\n",
      "Requirement already satisfied: fsspec>=2023.5.0 in /home/naheed/Desktop/gpt4all/env/lib/python3.10/site-packages (from huggingface_hub<1.0,>=0.16.4->tokenizers>=0.13.2->chromadb) (2023.10.0)\n",
      "Requirement already satisfied: filelock in /home/naheed/Desktop/gpt4all/env/lib/python3.10/site-packages (from huggingface_hub<1.0,>=0.16.4->tokenizers>=0.13.2->chromadb) (3.13.1)\n",
      "Requirement already satisfied: zipp>=0.5 in /home/naheed/Desktop/gpt4all/env/lib/python3.10/site-packages (from importlib-metadata<7.0,>=6.0->opentelemetry-api>=1.2.0->chromadb) (3.17.0)\n",
      "Requirement already satisfied: anyio<5,>=3.4.0 in /home/naheed/Desktop/gpt4all/env/lib/python3.10/site-packages (from starlette<0.36.0,>=0.35.0->fastapi>=0.95.2->chromadb) (3.7.1)\n",
      "Requirement already satisfied: humanfriendly>=9.1 in /home/naheed/Desktop/gpt4all/env/lib/python3.10/site-packages (from coloredlogs->onnxruntime>=1.14.1->chromadb) (10.0)\n",
      "Requirement already satisfied: mpmath>=0.19 in /home/naheed/Desktop/gpt4all/env/lib/python3.10/site-packages (from sympy->onnxruntime>=1.14.1->chromadb) (1.3.0)\n",
      "Requirement already satisfied: exceptiongroup in /home/naheed/Desktop/gpt4all/env/lib/python3.10/site-packages (from anyio<5,>=3.4.0->starlette<0.36.0,>=0.35.0->fastapi>=0.95.2->chromadb) (1.2.0)\n",
      "Requirement already satisfied: sniffio>=1.1 in /home/naheed/Desktop/gpt4all/env/lib/python3.10/site-packages (from anyio<5,>=3.4.0->starlette<0.36.0,>=0.35.0->fastapi>=0.95.2->chromadb) (1.3.0)\n",
      "Requirement already satisfied: pyasn1<0.6.0,>=0.4.6 in /home/naheed/Desktop/gpt4all/env/lib/python3.10/site-packages (from pyasn1-modules>=0.2.1->google-auth>=1.0.1->kubernetes>=28.1.0->chromadb) (0.5.1)\n",
      "Note: you may need to restart the kernel to use updated packages.\n",
      "Requirement already satisfied: InstructorEmbedding in /home/naheed/Desktop/gpt4all/env/lib/python3.10/site-packages (1.0.1)\n",
      "Note: you may need to restart the kernel to use updated packages.\n",
      "Requirement already satisfied: sentence-transformers in /home/naheed/Desktop/gpt4all/env/lib/python3.10/site-packages (2.3.0)\n",
      "Requirement already satisfied: scikit-learn in /home/naheed/Desktop/gpt4all/env/lib/python3.10/site-packages (from sentence-transformers) (1.4.0)\n",
      "Requirement already satisfied: sentencepiece in /home/naheed/Desktop/gpt4all/env/lib/python3.10/site-packages (from sentence-transformers) (0.1.99)\n",
      "Requirement already satisfied: scipy in /home/naheed/Desktop/gpt4all/env/lib/python3.10/site-packages (from sentence-transformers) (1.12.0)\n",
      "Requirement already satisfied: tqdm in /home/naheed/Desktop/gpt4all/env/lib/python3.10/site-packages (from sentence-transformers) (4.66.1)\n",
      "Requirement already satisfied: transformers<5.0.0,>=4.32.0 in /home/naheed/Desktop/gpt4all/env/lib/python3.10/site-packages (from sentence-transformers) (4.36.2)\n",
      "Requirement already satisfied: nltk in /home/naheed/Desktop/gpt4all/env/lib/python3.10/site-packages (from sentence-transformers) (3.8.1)\n",
      "Requirement already satisfied: Pillow in /home/naheed/Desktop/gpt4all/env/lib/python3.10/site-packages (from sentence-transformers) (10.1.0)\n",
      "Requirement already satisfied: torch>=1.11.0 in /home/naheed/Desktop/gpt4all/env/lib/python3.10/site-packages (from sentence-transformers) (2.1.1)\n",
      "Requirement already satisfied: huggingface-hub>=0.15.1 in /home/naheed/Desktop/gpt4all/env/lib/python3.10/site-packages (from sentence-transformers) (0.19.4)\n",
      "Requirement already satisfied: numpy in /home/naheed/Desktop/gpt4all/env/lib/python3.10/site-packages (from sentence-transformers) (1.26.3)\n",
      "Requirement already satisfied: fsspec>=2023.5.0 in /home/naheed/Desktop/gpt4all/env/lib/python3.10/site-packages (from huggingface-hub>=0.15.1->sentence-transformers) (2023.10.0)\n",
      "Requirement already satisfied: pyyaml>=5.1 in /home/naheed/Desktop/gpt4all/env/lib/python3.10/site-packages (from huggingface-hub>=0.15.1->sentence-transformers) (6.0.1)\n",
      "Requirement already satisfied: typing-extensions>=3.7.4.3 in /home/naheed/Desktop/gpt4all/env/lib/python3.10/site-packages (from huggingface-hub>=0.15.1->sentence-transformers) (4.8.0)\n",
      "Requirement already satisfied: requests in /home/naheed/Desktop/gpt4all/env/lib/python3.10/site-packages (from huggingface-hub>=0.15.1->sentence-transformers) (2.31.0)\n",
      "Requirement already satisfied: filelock in /home/naheed/Desktop/gpt4all/env/lib/python3.10/site-packages (from huggingface-hub>=0.15.1->sentence-transformers) (3.13.1)\n",
      "Requirement already satisfied: packaging>=20.9 in /home/naheed/Desktop/gpt4all/env/lib/python3.10/site-packages (from huggingface-hub>=0.15.1->sentence-transformers) (23.2)\n",
      "Requirement already satisfied: nvidia-cuda-nvrtc-cu12==12.1.105 in /home/naheed/Desktop/gpt4all/env/lib/python3.10/site-packages (from torch>=1.11.0->sentence-transformers) (12.1.105)\n",
      "Requirement already satisfied: nvidia-nvtx-cu12==12.1.105 in /home/naheed/Desktop/gpt4all/env/lib/python3.10/site-packages (from torch>=1.11.0->sentence-transformers) (12.1.105)\n",
      "Requirement already satisfied: nvidia-nccl-cu12==2.18.1 in /home/naheed/Desktop/gpt4all/env/lib/python3.10/site-packages (from torch>=1.11.0->sentence-transformers) (2.18.1)\n",
      "Requirement already satisfied: nvidia-cudnn-cu12==8.9.2.26 in /home/naheed/Desktop/gpt4all/env/lib/python3.10/site-packages (from torch>=1.11.0->sentence-transformers) (8.9.2.26)\n",
      "Requirement already satisfied: triton==2.1.0 in /home/naheed/Desktop/gpt4all/env/lib/python3.10/site-packages (from torch>=1.11.0->sentence-transformers) (2.1.0)\n",
      "Requirement already satisfied: nvidia-curand-cu12==10.3.2.106 in /home/naheed/Desktop/gpt4all/env/lib/python3.10/site-packages (from torch>=1.11.0->sentence-transformers) (10.3.2.106)\n",
      "Requirement already satisfied: nvidia-cuda-cupti-cu12==12.1.105 in /home/naheed/Desktop/gpt4all/env/lib/python3.10/site-packages (from torch>=1.11.0->sentence-transformers) (12.1.105)\n",
      "Requirement already satisfied: nvidia-cufft-cu12==11.0.2.54 in /home/naheed/Desktop/gpt4all/env/lib/python3.10/site-packages (from torch>=1.11.0->sentence-transformers) (11.0.2.54)\n",
      "Requirement already satisfied: nvidia-cublas-cu12==12.1.3.1 in /home/naheed/Desktop/gpt4all/env/lib/python3.10/site-packages (from torch>=1.11.0->sentence-transformers) (12.1.3.1)\n",
      "Requirement already satisfied: nvidia-cusolver-cu12==11.4.5.107 in /home/naheed/Desktop/gpt4all/env/lib/python3.10/site-packages (from torch>=1.11.0->sentence-transformers) (11.4.5.107)\n",
      "Requirement already satisfied: nvidia-cusparse-cu12==12.1.0.106 in /home/naheed/Desktop/gpt4all/env/lib/python3.10/site-packages (from torch>=1.11.0->sentence-transformers) (12.1.0.106)\n",
      "Requirement already satisfied: nvidia-cuda-runtime-cu12==12.1.105 in /home/naheed/Desktop/gpt4all/env/lib/python3.10/site-packages (from torch>=1.11.0->sentence-transformers) (12.1.105)\n",
      "Requirement already satisfied: sympy in /home/naheed/Desktop/gpt4all/env/lib/python3.10/site-packages (from torch>=1.11.0->sentence-transformers) (1.12)\n",
      "Requirement already satisfied: jinja2 in /home/naheed/Desktop/gpt4all/env/lib/python3.10/site-packages (from torch>=1.11.0->sentence-transformers) (3.1.2)\n",
      "Requirement already satisfied: networkx in /home/naheed/Desktop/gpt4all/env/lib/python3.10/site-packages (from torch>=1.11.0->sentence-transformers) (3.2.1)\n",
      "Requirement already satisfied: nvidia-nvjitlink-cu12 in /home/naheed/Desktop/gpt4all/env/lib/python3.10/site-packages (from nvidia-cusolver-cu12==11.4.5.107->torch>=1.11.0->sentence-transformers) (12.3.101)\n",
      "Requirement already satisfied: safetensors>=0.3.1 in /home/naheed/Desktop/gpt4all/env/lib/python3.10/site-packages (from transformers<5.0.0,>=4.32.0->sentence-transformers) (0.4.1)\n",
      "Requirement already satisfied: regex!=2019.12.17 in /home/naheed/Desktop/gpt4all/env/lib/python3.10/site-packages (from transformers<5.0.0,>=4.32.0->sentence-transformers) (2023.12.25)\n",
      "Requirement already satisfied: tokenizers<0.19,>=0.14 in /home/naheed/Desktop/gpt4all/env/lib/python3.10/site-packages (from transformers<5.0.0,>=4.32.0->sentence-transformers) (0.15.0)\n",
      "Requirement already satisfied: joblib in /home/naheed/Desktop/gpt4all/env/lib/python3.10/site-packages (from nltk->sentence-transformers) (1.3.2)\n",
      "Requirement already satisfied: click in /home/naheed/Desktop/gpt4all/env/lib/python3.10/site-packages (from nltk->sentence-transformers) (8.1.7)\n",
      "Requirement already satisfied: threadpoolctl>=2.0.0 in /home/naheed/Desktop/gpt4all/env/lib/python3.10/site-packages (from scikit-learn->sentence-transformers) (3.2.0)\n",
      "Requirement already satisfied: MarkupSafe>=2.0 in /home/naheed/Desktop/gpt4all/env/lib/python3.10/site-packages (from jinja2->torch>=1.11.0->sentence-transformers) (2.1.3)\n",
      "Requirement already satisfied: certifi>=2017.4.17 in /home/naheed/Desktop/gpt4all/env/lib/python3.10/site-packages (from requests->huggingface-hub>=0.15.1->sentence-transformers) (2023.11.17)\n",
      "Requirement already satisfied: charset-normalizer<4,>=2 in /home/naheed/Desktop/gpt4all/env/lib/python3.10/site-packages (from requests->huggingface-hub>=0.15.1->sentence-transformers) (3.3.2)\n",
      "Requirement already satisfied: idna<4,>=2.5 in /home/naheed/Desktop/gpt4all/env/lib/python3.10/site-packages (from requests->huggingface-hub>=0.15.1->sentence-transformers) (3.6)\n",
      "Requirement already satisfied: urllib3<3,>=1.21.1 in /home/naheed/Desktop/gpt4all/env/lib/python3.10/site-packages (from requests->huggingface-hub>=0.15.1->sentence-transformers) (2.1.0)\n",
      "Requirement already satisfied: mpmath>=0.19 in /home/naheed/Desktop/gpt4all/env/lib/python3.10/site-packages (from sympy->torch>=1.11.0->sentence-transformers) (1.3.0)\n",
      "Note: you may need to restart the kernel to use updated packages.\n",
      "Note: you may need to restart the kernel to use updated packages.\n"
     ]
    }
   ],
   "source": [
    "%pip install --upgrade --quiet  duckduckgo-search\n",
    "%pip install --upgrade --quiet  wikipedia\n",
    "%pip install chromadb\n",
    "\n",
    "%pip install InstructorEmbedding\n",
    "%pip install sentence-transformers\n",
    "\n",
    "%pip install --upgrade --quiet  gpt4all > /dev/null\n"
   ]
  },
  {
   "cell_type": "code",
   "execution_count": 2,
   "metadata": {},
   "outputs": [
    {
     "name": "stderr",
     "output_type": "stream",
     "text": [
      "/home/naheed/Desktop/gpt4all/env/lib/python3.10/site-packages/InstructorEmbedding/instructor.py:7: TqdmWarning: IProgress not found. Please update jupyter and ipywidgets. See https://ipywidgets.readthedocs.io/en/stable/user_install.html\n",
      "  from tqdm.autonotebook import trange\n"
     ]
    }
   ],
   "source": [
    "from langchain.tools import DuckDuckGoSearchRun\n",
    "from langchain.tools import WikipediaQueryRun\n",
    "from langchain_community.utilities import WikipediaAPIWrapper\n",
    "from langchain_community.utilities import GoogleSerperAPIWrapper\n",
    "\n",
    "\n",
    "import os\n",
    "import pprint\n",
    "\n",
    "os.environ[\"SERPER_API_KEY\"] = \"e1f8cd9de27d3b78f9ab3428167883002e76c33b\"\n",
    "\n",
    "\n",
    "from langchain.vectorstores import Chroma\n",
    "from langchain.text_splitter import RecursiveCharacterTextSplitter\n",
    "from langchain.llms import OpenAI\n",
    "from langchain.chains import RetrievalQA\n",
    "from langchain.document_loaders import TextLoader\n",
    "from langchain.document_loaders import PyPDFLoader\n",
    "from langchain.document_loaders import DirectoryLoader\n",
    "\n",
    "\n",
    "from InstructorEmbedding import INSTRUCTOR\n",
    "from langchain.embeddings import HuggingFaceInstructEmbeddings"
   ]
  },
  {
   "cell_type": "code",
   "execution_count": 3,
   "metadata": {},
   "outputs": [],
   "source": [
    "dd_search = DuckDuckGoSearchRun()\n",
    "wikipedia = WikipediaQueryRun(api_wrapper=WikipediaAPIWrapper())\n",
    "google_search = GoogleSerperAPIWrapper()"
   ]
  },
  {
   "cell_type": "code",
   "execution_count": 4,
   "metadata": {},
   "outputs": [
    {
     "name": "stderr",
     "output_type": "stream",
     "text": [
      "/home/naheed/Desktop/gpt4all/env/lib/python3.10/site-packages/langchain_community/utilities/duckduckgo_search.py:47: UserWarning: DDGS running in an async loop. This may cause errors. Use AsyncDDGS instead.\n",
      "  with DDGS() as ddgs:\n"
     ]
    },
    {
     "name": "stdout",
     "output_type": "stream",
     "text": [
      "('Page: Fat content of milk\\n'\n",
      " 'Summary: The fat content of milk is the proportion of milk, by weight,:\\u200a'\n",
      " '266\\u200a\\n'\n",
      " \"made up by butterfat. The fat content, particularly of cow's milk, is \"\n",
      " 'modified to make a variety of products. The fat content of milk is usually '\n",
      " 'stated on the container, and the color of the label or milk bottle top '\n",
      " 'varied to enable quick recognition.\\n'\n",
      " '\\n'\n",
      " 'Page: Skimmed milk\\n'\n",
      " 'Summary: Skimmed milk (British English), or skim milk (American English), is '\n",
      " 'made when all the milkfat is removed from whole milk. It tends to contain '\n",
      " 'around 0.1% fat.\\n'\n",
      " '\\n'\n",
      " 'Page: Oat milk\\n'\n",
      " 'Summary: Oat milk is a plant milk derived from whole oat (Avena spp.) grains '\n",
      " 'by extracting the plant material with water. Oat milk has a creamy texture '\n",
      " 'and mild oatmeal-like flavor, and is manufactured in various flavors, such '\n",
      " 'as sweetened, unsweetened, vanilla, and chocolate.\\n'\n",
      " 'Unlike other plant milks having origins as early as the 13th century, oat '\n",
      " 'milk was developed in the 1990s by the Swedish scientist Rickard Öste. Over '\n",
      " '2017–2019, oat milk sales in the United States increased 10 fold, and one '\n",
      " 'major manufacturer, Oatly, reported a three-fold increase in worldwide '\n",
      " 'sales. As of late 2020, the oat milk market became second-largest among '\n",
      " 'plant milks in the United States, following the leader, almond milk, but '\n",
      " 'exceeding the sales of soy milk.By 2020, oat milk products included coffee '\n",
      " 'creamer, yogurt alternatives, ice cream, and chocolate. Oat milk may be '\n",
      " 'consumed to replace dairy in vegan diets, or in cases of medical conditions '\n",
      " 'where dairy is incompatible, such as lactose intolerance or an allergy to '\n",
      " 'cow milk. Compared to milk and other plant-based beverages, oat milk has '\n",
      " 'relatively low environmental impact due to its comparatively low land and '\n",
      " 'water needs for production.\\n'\n",
      " '\\n')\n"
     ]
    }
   ],
   "source": [
    "dd = dd_search.run(\"How is milk Made?\")\n",
    "google = google_search.run(\"How is milk made?\")\n",
    "wiki = wikipedia.run(\"How is milk made?\")\n",
    "pprint.pp(wiki)\n"
   ]
  },
  {
   "cell_type": "code",
   "execution_count": 5,
   "metadata": {},
   "outputs": [
    {
     "name": "stdout",
     "output_type": "stream",
     "text": [
      "1392\n",
      "275\n",
      "1750\n",
      "2\n",
      "1\n",
      "3\n"
     ]
    }
   ],
   "source": [
    "\n",
    "#splitting the text into\n",
    "\n",
    "# print(len(data))\n",
    "\n",
    "text_splitter = RecursiveCharacterTextSplitter(chunk_size=1000, chunk_overlap=200)\n",
    "texts1 = text_splitter.split_text(dd)\n",
    "texts2 = text_splitter.split_text(google)\n",
    "texts3 = text_splitter.split_text(wiki)\n",
    "\n",
    "print(len(dd))\n",
    "print(len(google))\n",
    "print(len(wiki))\n",
    "\n",
    "print(len(texts1))\n",
    "print(len(texts2))\n",
    "print(len(texts3))\n",
    "# print(texts[0])"
   ]
  },
  {
   "cell_type": "code",
   "execution_count": 6,
   "metadata": {},
   "outputs": [
    {
     "name": "stdout",
     "output_type": "stream",
     "text": [
      "Note: you may need to restart the kernel to use updated packages.\n"
     ]
    }
   ],
   "source": [
    "%pip install -Uq chromadb numpy datasets\n",
    "# Import Chroma and instantiate a client. The default Chroma client is ephemeral, meaning it will not save to disk.\n",
    "import chromadb\n",
    "from chromadb.config import Settings\n",
    "\n",
    "client = chromadb.Client(Settings(allow_reset=True))"
   ]
  },
  {
   "cell_type": "code",
   "execution_count": 7,
   "metadata": {},
   "outputs": [],
   "source": [
    "# Create a new Chroma collection to store the supporting evidence. We don't need to specify an embedding fuction, and the default will be used.\n",
    "client.reset()\n",
    "collection = client.create_collection(\"searched_data_on_web\")"
   ]
  },
  {
   "cell_type": "code",
   "execution_count": 8,
   "metadata": {},
   "outputs": [],
   "source": [
    "\n",
    "start = 0\n",
    "finish = len(texts1)\n",
    "\n",
    "collection.add(\n",
    "    ids=[str(i) for i in range(start, finish)],\n",
    "    documents= texts1[:len(texts1)],\n",
    "    metadatas=[{\"source\":\"DuckDuckGoSearch\"} for i in range(start,finish)] \n",
    ")\n",
    "\n",
    "\n",
    "start = len(texts1)\n",
    "finish = len(texts1)+len(texts2)\n",
    "collection.add(\n",
    "    ids=[str(i) for i in range(start, finish)],\n",
    "    documents= texts2[:len(texts2)],\n",
    "    metadatas=[{\"source\":\"GoogleSearch\"}for i in range(start,finish)] \n",
    ")\n",
    "\n",
    "\n",
    "start = len(texts1)+len(texts2)\n",
    "finish = len(texts1)+len(texts2)+len(texts3)\n",
    "collection.add(\n",
    "    ids=[str(i) for i in range(start, finish)],\n",
    "    documents= texts3[:len(texts3)],\n",
    "    metadatas=[{\"source\":\"WikiSearch\"}for i in range(start,finish)] \n",
    ")"
   ]
  },
  {
   "cell_type": "code",
   "execution_count": 9,
   "metadata": {},
   "outputs": [
    {
     "name": "stderr",
     "output_type": "stream",
     "text": [
      "Number of requested results 10 is greater than number of elements in index 6, updating n_results = 6\n"
     ]
    },
    {
     "data": {
      "text/plain": [
       "{'ids': [['2', '0', '4', '3', '1', '5']],\n",
       " 'distances': [[0.8157816529273987,\n",
       "   0.9763622283935547,\n",
       "   1.0069234371185303,\n",
       "   1.0191516876220703,\n",
       "   1.1000409126281738,\n",
       "   1.1715294122695923]],\n",
       " 'metadatas': [[{'source': 'GoogleSearch'},\n",
       "   {'source': 'DuckDuckGoSearch'},\n",
       "   {'source': 'WikiSearch'},\n",
       "   {'source': 'WikiSearch'},\n",
       "   {'source': 'DuckDuckGoSearch'},\n",
       "   {'source': 'WikiSearch'}]],\n",
       " 'embeddings': None,\n",
       " 'documents': [[\"Cows are milked using vacuum cups which are attached to the cow's teats. The milk is sent through stainless steel pipes to large refrigerated vats, then stored at 5°C or less. Within 48 hours, milk is taken in tankers to a milk factory where it's pasteurised and homogenised.\",\n",
       "   \"Nutrition for infant mammals Breastfeeding to provide a mother's milk A goat kid feeding on its mother's milk In almost all mammals, milk is fed to infants through breastfeeding, either directly or by expressing the milk to be stored and consumed later. The early milk from mammals is called colostrum. Processing Raw vs. pasteurized Bottom line You may know cow's milk for its calcium content, but it has much more to offer. A single cup provides nearly every nutrient your body needs. This... 961. Dairy product, milk and any of the foods made from milk, including butter, cheese, ice cream, yogurt, and condensed and dried milk. Cow's milk is by far the principal type of milk used in dairy products worldwide. Learn more about the types, nutritional content, and production of dairy products. Almond Milk Nutrition. Almond milk is an excellent source of nutrition that is low in calories and high in calcium. An 8-ounce cup of unsweetened almond milk has the following nutrients: Calories: 28.8\",\n",
       "   'Page: Oat milk\\nSummary: Oat milk is a plant milk derived from whole oat (Avena spp.) grains by extracting the plant material with water. Oat milk has a creamy texture and mild oatmeal-like flavor, and is manufactured in various flavors, such as sweetened, unsweetened, vanilla, and chocolate.',\n",
       "   \"Page: Fat content of milk\\nSummary: The fat content of milk is the proportion of milk, by weight,:\\u200a266\\u200a\\nmade up by butterfat. The fat content, particularly of cow's milk, is modified to make a variety of products. The fat content of milk is usually stated on the container, and the color of the label or milk bottle top varied to enable quick recognition.\\n\\nPage: Skimmed milk\\nSummary: Skimmed milk (British English), or skim milk (American English), is made when all the milkfat is removed from whole milk. It tends to contain around 0.1% fat.\",\n",
       "   'Milk Nutrition. Almond milk is an excellent source of nutrition that is low in calories and high in calcium. An 8-ounce cup of unsweetened almond milk has the following nutrients: Calories: 28.8 grams (g) Protein: 1 g. Fat: 2.5 g. Calcium: 451 milligrams (mg) Milk is comprised of five main components, water, protein, fat, carbohydrates (i.e., lactose) and lesser components (i.e., vitamins and minerals). The proteins in milk are divided between caseins and whey proteins, and are often extracted from milk for use in nutrition applications, such as infant formulae and protein powders.',\n",
       "   'Unlike other plant milks having origins as early as the 13th century, oat milk was developed in the 1990s by the Swedish scientist Rickard Öste. Over 2017–2019, oat milk sales in the United States increased 10 fold, and one major manufacturer, Oatly, reported a three-fold increase in worldwide sales. As of late 2020, the oat milk market became second-largest among plant milks in the United States, following the leader, almond milk, but exceeding the sales of soy milk.By 2020, oat milk products included coffee creamer, yogurt alternatives, ice cream, and chocolate. Oat milk may be consumed to replace dairy in vegan diets, or in cases of medical conditions where dairy is incompatible, such as lactose intolerance or an allergy to cow milk. Compared to milk and other plant-based beverages, oat milk has relatively low environmental impact due to its comparatively low land and water needs for production.']],\n",
       " 'uris': None,\n",
       " 'data': None}"
      ]
     },
     "execution_count": 9,
     "metadata": {},
     "output_type": "execute_result"
    }
   ],
   "source": [
    "results = collection.query(\n",
    "    query_texts=[\"How is milk made?\"],\n",
    "    n_results=10\n",
    ")\n",
    "\n",
    "results"
   ]
  },
  {
   "cell_type": "code",
   "execution_count": 10,
   "metadata": {},
   "outputs": [
    {
     "name": "stdout",
     "output_type": "stream",
     "text": [
      "data from id 0\n",
      "data from source GoogleSearch\n",
      "Answer : Cows are milked using vacuum cups which are attached to the cow's teats. The milk is sent through stainless steel pipes to large refrigerated vats, then stored at 5°C or less. Within 48 hours, milk is taken in tankers to a milk factory where it's pasteurised and homogenised.\n",
      "------------------------------------------------\n",
      "data from id 1\n",
      "data from source GoogleSearch\n",
      "Answer : Nutrition for infant mammals Breastfeeding to provide a mother's milk A goat kid feeding on its mother's milk In almost all mammals, milk is fed to infants through breastfeeding, either directly or by expressing the milk to be stored and consumed later. The early milk from mammals is called colostrum. Processing Raw vs. pasteurized Bottom line You may know cow's milk for its calcium content, but it has much more to offer. A single cup provides nearly every nutrient your body needs. This... 961. Dairy product, milk and any of the foods made from milk, including butter, cheese, ice cream, yogurt, and condensed and dried milk. Cow's milk is by far the principal type of milk used in dairy products worldwide. Learn more about the types, nutritional content, and production of dairy products. Almond Milk Nutrition. Almond milk is an excellent source of nutrition that is low in calories and high in calcium. An 8-ounce cup of unsweetened almond milk has the following nutrients: Calories: 28.8\n",
      "------------------------------------------------\n",
      "data from id 2\n",
      "data from source GoogleSearch\n",
      "Answer : Page: Oat milk\n",
      "Summary: Oat milk is a plant milk derived from whole oat (Avena spp.) grains by extracting the plant material with water. Oat milk has a creamy texture and mild oatmeal-like flavor, and is manufactured in various flavors, such as sweetened, unsweetened, vanilla, and chocolate.\n",
      "------------------------------------------------\n",
      "data from id 3\n",
      "data from source GoogleSearch\n",
      "Answer : Page: Fat content of milk\n",
      "Summary: The fat content of milk is the proportion of milk, by weight,: 266 \n",
      "made up by butterfat. The fat content, particularly of cow's milk, is modified to make a variety of products. The fat content of milk is usually stated on the container, and the color of the label or milk bottle top varied to enable quick recognition.\n",
      "\n",
      "Page: Skimmed milk\n",
      "Summary: Skimmed milk (British English), or skim milk (American English), is made when all the milkfat is removed from whole milk. It tends to contain around 0.1% fat.\n",
      "------------------------------------------------\n",
      "data from id 4\n",
      "data from source GoogleSearch\n",
      "Answer : Milk Nutrition. Almond milk is an excellent source of nutrition that is low in calories and high in calcium. An 8-ounce cup of unsweetened almond milk has the following nutrients: Calories: 28.8 grams (g) Protein: 1 g. Fat: 2.5 g. Calcium: 451 milligrams (mg) Milk is comprised of five main components, water, protein, fat, carbohydrates (i.e., lactose) and lesser components (i.e., vitamins and minerals). The proteins in milk are divided between caseins and whey proteins, and are often extracted from milk for use in nutrition applications, such as infant formulae and protein powders.\n",
      "------------------------------------------------\n",
      "data from id 5\n",
      "data from source GoogleSearch\n",
      "Answer : Unlike other plant milks having origins as early as the 13th century, oat milk was developed in the 1990s by the Swedish scientist Rickard Öste. Over 2017–2019, oat milk sales in the United States increased 10 fold, and one major manufacturer, Oatly, reported a three-fold increase in worldwide sales. As of late 2020, the oat milk market became second-largest among plant milks in the United States, following the leader, almond milk, but exceeding the sales of soy milk.By 2020, oat milk products included coffee creamer, yogurt alternatives, ice cream, and chocolate. Oat milk may be consumed to replace dairy in vegan diets, or in cases of medical conditions where dairy is incompatible, such as lactose intolerance or an allergy to cow milk. Compared to milk and other plant-based beverages, oat milk has relatively low environmental impact due to its comparatively low land and water needs for production.\n",
      "------------------------------------------------\n"
     ]
    }
   ],
   "source": [
    "results['documents']\n",
    "\n",
    "\n",
    "for i in range(len(results['ids'][0])):\n",
    "    print(f'data from id {i}')\n",
    "    print(f'data from source {results[\"metadatas\"][0][0][\"source\"]}')\n",
    "    print(f'Answer : {results[\"documents\"][0][i]}')\n",
    "    print(\"------------------------------------------------\")\n"
   ]
  },
  {
   "cell_type": "code",
   "execution_count": 12,
   "metadata": {},
   "outputs": [
    {
     "data": {
      "text/plain": [
       "\"Cows are milked using vacuum cups which are attached to the cow's teats. The milk is sent through stainless steel pipes to large refrigerated vats, then stored at 5°C or less. Within 48 hours, milk is taken in tankers to a milk factory where it's pasteurised and homogenised.Nutrition for infant mammals Breastfeeding to provide a mother's milk A goat kid feeding on its mother's milk In almost all mammals, milk is fed to infants through breastfeeding, either directly or by expressing the milk to be stored and consumed later. The early milk from mammals is called colostrum. Processing Raw vs. pasteurized Bottom line You may know cow's milk for its calcium content, but it has much more to offer. A single cup provides nearly every nutrient your body needs. This... 961. Dairy product, milk and any of the foods made from milk, including butter, cheese, ice cream, yogurt, and condensed and dried milk. Cow's milk is by far the principal type of milk used in dairy products worldwide. Learn more about the types, nutritional content, and production of dairy products. Almond Milk Nutrition. Almond milk is an excellent source of nutrition that is low in calories and high in calcium. An 8-ounce cup of unsweetened almond milk has the following nutrients: Calories: 28.8Page: Oat milk\\nSummary: Oat milk is a plant milk derived from whole oat (Avena spp.) grains by extracting the plant material with water. Oat milk has a creamy texture and mild oatmeal-like flavor, and is manufactured in various flavors, such as sweetened, unsweetened, vanilla, and chocolate.Page: Fat content of milk\\nSummary: The fat content of milk is the proportion of milk, by weight,:\\u200a266\\u200a\\nmade up by butterfat. The fat content, particularly of cow's milk, is modified to make a variety of products. The fat content of milk is usually stated on the container, and the color of the label or milk bottle top varied to enable quick recognition.\\n\\nPage: Skimmed milk\\nSummary: Skimmed milk (British English), or skim milk (American English), is made when all the milkfat is removed from whole milk. It tends to contain around 0.1% fat.Milk Nutrition. Almond milk is an excellent source of nutrition that is low in calories and high in calcium. An 8-ounce cup of unsweetened almond milk has the following nutrients: Calories: 28.8 grams (g) Protein: 1 g. Fat: 2.5 g. Calcium: 451 milligrams (mg) Milk is comprised of five main components, water, protein, fat, carbohydrates (i.e., lactose) and lesser components (i.e., vitamins and minerals). The proteins in milk are divided between caseins and whey proteins, and are often extracted from milk for use in nutrition applications, such as infant formulae and protein powders.\""
      ]
     },
     "execution_count": 12,
     "metadata": {},
     "output_type": "execute_result"
    }
   ],
   "source": [
    "res = ''\n",
    "for i in range(min(5 , len(results['ids'][0]))):\n",
    "    res += results[\"documents\"][0][i]\n",
    " \n",
    "res"
   ]
  }
 ],
 "metadata": {
  "kernelspec": {
   "display_name": "env",
   "language": "python",
   "name": "python3"
  },
  "language_info": {
   "codemirror_mode": {
    "name": "ipython",
    "version": 3
   },
   "file_extension": ".py",
   "mimetype": "text/x-python",
   "name": "python",
   "nbconvert_exporter": "python",
   "pygments_lexer": "ipython3",
   "version": "3.10.12"
  }
 },
 "nbformat": 4,
 "nbformat_minor": 2
}
